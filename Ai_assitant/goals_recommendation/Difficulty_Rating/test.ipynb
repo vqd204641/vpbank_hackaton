{
 "cells": [
  {
   "cell_type": "code",
   "execution_count": null,
   "id": "8d2b5dbf",
   "metadata": {},
   "outputs": [],
   "source": [
    "df = pd.read_csv(\"../../../user_classification/user_clusters.csv\")\n",
    "\n",
    "# Chuyển đổi ngày tháng\n",
    "df['start_date'] = pd.to_datetime(df['start_date'])\n",
    "df['target_date'] = pd.to_datetime(df['target_date'])\n",
    "df['duration_days'] = (df['target_date'] - df['start_date']).dt.days"
   ]
  },
  {
   "cell_type": "code",
   "execution_count": null,
   "id": "8c8bd20f",
   "metadata": {},
   "outputs": [
    {
     "name": "stdout",
     "output_type": "stream",
     "text": [
      "Đã tải mô hình cho hũ NEC trong cụm 0\n",
      "Đã tải mô hình cho hũ FFA trong cụm 0\n",
      "Đã tải mô hình cho hũ EDU trong cụm 0\n",
      "Đã tải mô hình cho hũ LTSS trong cụm 0\n",
      "Đã tải mô hình cho hũ PLAY trong cụm 0\n",
      "Đã tải mô hình cho hũ NEC trong cụm 1\n",
      "Đã tải mô hình cho hũ FFA trong cụm 1\n",
      "Đã tải mô hình cho hũ EDU trong cụm 1\n",
      "Đã tải mô hình cho hũ LTSS trong cụm 1\n",
      "Đã tải mô hình cho hũ PLAY trong cụm 1\n",
      "Đã tải mô hình cho hũ NEC trong cụm 2\n",
      "Đã tải mô hình cho hũ FFA trong cụm 2\n",
      "Đã tải mô hình cho hũ EDU trong cụm 2\n",
      "Đã tải mô hình cho hũ LTSS trong cụm 2\n",
      "Đã tải mô hình cho hũ PLAY trong cụm 2\n",
      "Đã tải mô hình cho hũ NEC trong cụm 3\n",
      "Đã tải mô hình cho hũ FFA trong cụm 3\n",
      "Đã tải mô hình cho hũ EDU trong cụm 3\n",
      "Đã tải mô hình cho hũ LTSS trong cụm 3\n",
      "Đã tải mô hình cho hũ PLAY trong cụm 3\n",
      "{'NEC': 8200000, 'FFA': 2400000, 'EDU': 1800000, 'LTSS': 1800000, 'PLAY': 1800000, 'total': 16000000}\n"
     ]
    },
    {
     "name": "stderr",
     "output_type": "stream",
     "text": [
      "c:\\Users\\ASUS\\Desktop\\vpbank_hackathon\\models_venv\\lib\\site-packages\\statsmodels\\tsa\\base\\tsa_model.py:837: ValueWarning: No supported index is available. Prediction results will be given with an integer index beginning at `start`.\n",
      "  return get_prediction_index(\n",
      "c:\\Users\\ASUS\\Desktop\\vpbank_hackathon\\models_venv\\lib\\site-packages\\statsmodels\\tsa\\base\\tsa_model.py:837: ValueWarning: No supported index is available. Prediction results will be given with an integer index beginning at `start`.\n",
      "  return get_prediction_index(\n",
      "c:\\Users\\ASUS\\Desktop\\vpbank_hackathon\\models_venv\\lib\\site-packages\\statsmodels\\tsa\\base\\tsa_model.py:837: ValueWarning: No supported index is available. Prediction results will be given with an integer index beginning at `start`.\n",
      "  return get_prediction_index(\n",
      "c:\\Users\\ASUS\\Desktop\\vpbank_hackathon\\models_venv\\lib\\site-packages\\statsmodels\\tsa\\base\\tsa_model.py:837: ValueWarning: No supported index is available. Prediction results will be given with an integer index beginning at `start`.\n",
      "  return get_prediction_index(\n",
      "c:\\Users\\ASUS\\Desktop\\vpbank_hackathon\\models_venv\\lib\\site-packages\\statsmodels\\tsa\\base\\tsa_model.py:837: ValueWarning: No supported index is available. Prediction results will be given with an integer index beginning at `start`.\n",
      "  return get_prediction_index(\n"
     ]
    }
   ],
   "source": [
    "import sys\n",
    "import os\n",
    "project_root = os.path.abspath(os.path.join(os.getcwd(), \"../../../\"))\n",
    "\n",
    "sys.path.append(project_root)\n",
    "from spending_forecast.forecast import ARIMAPredictor\n",
    "\n",
    "predictor = ARIMAPredictor()\n",
    "cluster = user_cluster \n",
    "# Dự đoán cho cụm 0\n",
    "result = predictor.predict_cluster_spending(cluster)\n",
    "\n",
    "spending_predict = result['EDU'] + result['PLAY']\n",
    "saving_predict = result['FFA'] + result['LTSS']"
   ]
  },
  {
   "cell_type": "code",
   "execution_count": 23,
   "id": "615f4c11",
   "metadata": {},
   "outputs": [
    {
     "name": "stdout",
     "output_type": "stream",
     "text": [
      "Current working directory: c:\\Users\\ASUS\\Desktop\\vpbank_hackathon\\Ai_assitant\\goals_recommendation\\Difficulty_Rating\n",
      "Project root: c:\\Users\\ASUS\\Desktop\\vpbank_hackathon\\Ai_assitant\n"
     ]
    }
   ],
   "source": [
    "print(\"Current working directory:\", os.getcwd())\n",
    "print(\"Project root:\", project_root)\n"
   ]
  },
  {
   "cell_type": "code",
   "execution_count": null,
   "id": "b932593c",
   "metadata": {},
   "outputs": [],
   "source": [
    "import pandas as pd\n",
    "import numpy as np\n",
    "from sklearn.metrics.pairwise import cosine_similarity\n",
    "from datetime import datetime\n",
    "\n",
    "# Đọc file CSV\n",
    "df = pd.read_csv(\"../../../user_data_ver1/user_goals_2saving_1spending.csv\")\n",
    "\n",
    "# Chuyển đổi ngày tháng\n",
    "df['start_date'] = pd.to_datetime(df['start_date'])\n",
    "df['target_date'] = pd.to_datetime(df['target_date'])\n",
    "df['duration_days'] = (df['target_date'] - df['start_date']).dt.days\n",
    "\n",
    "# Hàm tính toán các đặc trưng của mục tiêu\n",
    "def extract_features(goal):\n",
    "    return {\n",
    "        'goal_type': 1 if goal['goal_type'] == 'saving' else 0,\n",
    "        'goal_priority': {'Low': 0, 'Medium': 1, 'High': 2}[goal['goal_priority']],\n",
    "        'goal_horizon': 1 if goal['goal_horizon'] == 'long' else 0,\n",
    "        'target_amount': goal['target_amount'],\n",
    "        'duration_days': goal['duration_days'], \n",
    "        'monthly_target' : goal['target_amount'] / (goal['duration_days'] / 30 )\n",
    "        'feasibility' : \n",
    "    }\n",
    "\n",
    "# Tạo vector đặc trưng cho tất cả mục tiêu\n",
    "df['features'] = df.apply(extract_features, axis=1)"
   ]
  },
  {
   "cell_type": "code",
   "execution_count": 13,
   "id": "aa28488c",
   "metadata": {},
   "outputs": [
    {
     "data": {
      "text/plain": [
       "{'goal_type': 1,\n",
       " 'goal_priority': 0,\n",
       " 'goal_horizon': 1,\n",
       " 'target_amount': 2346690000,\n",
       " 'duration_days': 1770,\n",
       " 'monthly_target': 39774406.779661015}"
      ]
     },
     "execution_count": 13,
     "metadata": {},
     "output_type": "execute_result"
    }
   ],
   "source": [
    "df['features'][0]"
   ]
  },
  {
   "cell_type": "code",
   "execution_count": 15,
   "id": "9d928738",
   "metadata": {},
   "outputs": [],
   "source": [
    "def find_similar_goals(new_goal, df, top_k=5):\n",
    "    # Tạo vector đặc trưng cho mục tiêu mới\n",
    "    new_features = extract_features(new_goal)\n",
    "    new_vector = np.array([\n",
    "        new_features['goal_type'],\n",
    "        new_features['goal_priority'],\n",
    "        new_features['goal_horizon'],\n",
    "        new_features['target_amount'],\n",
    "        new_features['duration_days'],\n",
    "        new_features['monthly_target']\n",
    "    ]).reshape(1, -1)\n",
    "    \n",
    "    # Tạo vector đặc trưng cho các mục tiêu hiện có\n",
    "    vectors = np.array([\n",
    "        [\n",
    "            f['goal_type'],\n",
    "            f['goal_priority'],\n",
    "            f['goal_horizon'],\n",
    "            f['target_amount'],\n",
    "            f['duration_days'],\n",
    "            f['monthly_target']\n",
    "        ] for f in df['features']\n",
    "    ])\n",
    "    \n",
    "    # Tính độ tương đồng cosine\n",
    "    similarities = cosine_similarity(new_vector, vectors)[0]\n",
    "    top_k_indices = np.argsort(similarities)[-top_k:][::-1]\n",
    "    \n",
    "    # Lấy các mục tiêu tương tự\n",
    "    similar_goals = df.iloc[top_k_indices]\n",
    "    \n",
    "    return similar_goals[['goal_id', 'user_id', 'completion_percent', 'target_amount', 'duration_days', 'associated_jar']]\n"
   ]
  },
  {
   "cell_type": "code",
   "execution_count": 17,
   "id": "5067dd9b",
   "metadata": {},
   "outputs": [],
   "source": [
    "def evaluate_new_goal(new_goal, df):\n",
    "    similar_goals = find_similar_goals(new_goal, df)\n",
    "    \n",
    "    if similar_goals.empty:\n",
    "        return {\n",
    "            'feasibility': 'Không tìm thấy mục tiêu tương tự',\n",
    "            'avg_completion': None,\n",
    "            'suggestions': 'Kiểm tra lại thông tin mục tiêu hoặc thử với các tham số khác.'\n",
    "        }\n",
    "    \n",
    "    avg_completion = similar_goals['completion_percent'].mean()\n",
    "    feasibility = (\n",
    "        'Khả thi' if avg_completion > 50 else\n",
    "        'Khó đạt' if avg_completion > 20 else\n",
    "        'Rất khó đạt'\n",
    "    )\n",
    "    \n",
    "    # Rule-based suggestions\n",
    "    suggestions = []\n",
    "    if new_goal['goal_type'] == 'saving':\n",
    "        avg_monthly_target = df[df['goal_type'] == 'saving']['features'].apply(lambda x: x['monthly_target']).mean()\n",
    "        if new_goal['target_amount'] / (new_goal['duration_days'] / 30) > avg_monthly_target * 1.5:\n",
    "            suggestions.append(\"Số tiền tiết kiệm hàng tháng có thể quá cao. Cân nhắc giảm target_amount hoặc kéo dài target_date.\")\n",
    "    elif new_goal['goal_type'] == 'spending':\n",
    "        avg_spending_target = df[df['goal_type'] == 'spending']['target_amount'].mean()\n",
    "        if new_goal['target_amount'] > avg_spending_target * 1.5:\n",
    "            suggestions.append(\"Mục tiêu chi tiêu vượt mức trung bình. Cân nhắc giảm target_amount.\")\n",
    "\n",
    "    return {\n",
    "        'feasibility': feasibility,\n",
    "        'avg_completion': round(avg_completion, 2),\n",
    "        'similar_goals': similar_goals.to_dict('records'),\n",
    "        'suggestions': suggestions\n",
    "    }"
   ]
  },
  {
   "cell_type": "code",
   "execution_count": 4,
   "id": "fff3de2e",
   "metadata": {},
   "outputs": [],
   "source": [
    "# Ví dụ mục tiêu mới\n",
    "new_goal = {\n",
    "    'user_id': 6,\n",
    "    'goal_type': 'saving',\n",
    "    'goal_priority': 'Medium',\n",
    "    'goal_horizon': 'long',\n",
    "    'target_amount': 3000000000,\n",
    "    'start_date': pd.to_datetime('2025-07-01'),\n",
    "    'target_date': pd.to_datetime('2028-07-01'),\n",
    "    'associated_jar': 'EMERGENCY',\n",
    "    'duration_days': (pd.to_datetime('2028-07-01') - pd.to_datetime('2025-07-01')).days\n",
    "}\n",
    "\n",
    "# Đánh giá mục tiêu\n",
    "result = evaluate_new_goal(new_goal, df)"
   ]
  },
  {
   "cell_type": "code",
   "execution_count": 18,
   "id": "3ed25bd9",
   "metadata": {},
   "outputs": [
    {
     "name": "stdout",
     "output_type": "stream",
     "text": [
      "Đánh giá mục tiêu mới:\n",
      "Tính khả thi: Khó đạt\n",
      "Tỷ lệ hoàn thành trung bình của các mục tiêu tương tự: 25.27%\n",
      "Các mục tiêu tương tự:\n",
      "- Goal ID: 755, User ID: 279, Completion: 44.38%, Jar: LTSS\n",
      "- Goal ID: 1047, User ID: 382, Completion: 4.18%, Jar: FFA\n",
      "- Goal ID: 2096, User ID: 766, Completion: 22.71%, Jar: EMERGENCY\n",
      "- Goal ID: 1769, User ID: 648, Completion: 17.36%, Jar: LTSS\n",
      "- Goal ID: 194, User ID: 73, Completion: 37.72%, Jar: FFA\n",
      "Gợi ý:\n"
     ]
    }
   ],
   "source": [
    "# Ví dụ mục tiêu mới\n",
    "new_goal = {\n",
    "    'user_id': 6,\n",
    "    'goal_type': 'saving',\n",
    "    'goal_priority': 'Medium',\n",
    "    'goal_horizon': 'long',\n",
    "    'target_amount': 3000000000,\n",
    "    'start_date': pd.to_datetime('2025-07-01'),\n",
    "    'target_date': pd.to_datetime('2028-07-01'),\n",
    "    'associated_jar': 'EMERGENCY',\n",
    "    'duration_days': (pd.to_datetime('2028-07-01') - pd.to_datetime('2025-07-01')).days\n",
    "}\n",
    "\n",
    "# Đánh giá mục tiêu\n",
    "result = evaluate_new_goal(new_goal, df)\n",
    "print(\"Đánh giá mục tiêu mới:\")\n",
    "print(f\"Tính khả thi: {result['feasibility']}\")\n",
    "print(f\"Tỷ lệ hoàn thành trung bình của các mục tiêu tương tự: {result['avg_completion']}%\")\n",
    "print(\"Các mục tiêu tương tự:\")\n",
    "for goal in result['similar_goals']:\n",
    "    print(f\"- Goal ID: {goal['goal_id']}, User ID: {goal['user_id']}, Completion: {goal['completion_percent']}%, Jar: {goal['associated_jar']}\")\n",
    "print(\"Gợi ý:\")\n",
    "for suggestion in result['suggestions']:\n",
    "    print(f\"- {suggestion}\")"
   ]
  }
 ],
 "metadata": {
  "kernelspec": {
   "display_name": "models_venv",
   "language": "python",
   "name": "python3"
  },
  "language_info": {
   "codemirror_mode": {
    "name": "ipython",
    "version": 3
   },
   "file_extension": ".py",
   "mimetype": "text/x-python",
   "name": "python",
   "nbconvert_exporter": "python",
   "pygments_lexer": "ipython3",
   "version": "3.9.13"
  }
 },
 "nbformat": 4,
 "nbformat_minor": 5
}
