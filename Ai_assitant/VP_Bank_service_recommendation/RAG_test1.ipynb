{
 "cells": [
  {
   "cell_type": "code",
   "execution_count": 1,
   "id": "e29ce8b5",
   "metadata": {},
   "outputs": [
    {
     "name": "stdout",
     "output_type": "stream",
     "text": [
      "Collecting transformers\n",
      "  Using cached transformers-4.53.2-py3-none-any.whl (10.8 MB)\n",
      "Collecting sentencepiece\n",
      "  Using cached sentencepiece-0.2.0-cp39-cp39-win_amd64.whl (991 kB)\n",
      "Collecting langchain\n",
      "  Using cached langchain-0.3.26-py3-none-any.whl (1.0 MB)\n",
      "Collecting faiss-cpu\n",
      "  Using cached faiss_cpu-1.11.0.post1-cp39-cp39-win_amd64.whl (14.9 MB)\n",
      "Requirement already satisfied: numpy>=1.17 in c:\\users\\asus\\desktop\\vpbank_hackathon\\models_venv\\lib\\site-packages (from transformers) (2.0.2)\n",
      "Collecting regex!=2019.12.17\n",
      "  Using cached regex-2024.11.6-cp39-cp39-win_amd64.whl (274 kB)\n",
      "Collecting requests\n",
      "  Using cached requests-2.32.4-py3-none-any.whl (64 kB)\n",
      "Collecting pyyaml>=5.1\n",
      "  Using cached PyYAML-6.0.2-cp39-cp39-win_amd64.whl (162 kB)\n",
      "Collecting safetensors>=0.4.3\n",
      "  Using cached safetensors-0.5.3-cp38-abi3-win_amd64.whl (308 kB)\n",
      "Requirement already satisfied: packaging>=20.0 in c:\\users\\asus\\desktop\\vpbank_hackathon\\models_venv\\lib\\site-packages (from transformers) (25.0)\n",
      "Collecting filelock\n",
      "  Using cached filelock-3.18.0-py3-none-any.whl (16 kB)\n",
      "Collecting tokenizers<0.22,>=0.21\n",
      "  Using cached tokenizers-0.21.2-cp39-abi3-win_amd64.whl (2.5 MB)\n",
      "Collecting tqdm>=4.27\n",
      "  Using cached tqdm-4.67.1-py3-none-any.whl (78 kB)\n",
      "Collecting huggingface-hub<1.0,>=0.30.0\n",
      "  Using cached huggingface_hub-0.33.4-py3-none-any.whl (515 kB)\n",
      "Collecting langchain-text-splitters<1.0.0,>=0.3.8\n",
      "  Using cached langchain_text_splitters-0.3.8-py3-none-any.whl (32 kB)\n",
      "Collecting pydantic<3.0.0,>=2.7.4\n",
      "  Using cached pydantic-2.11.7-py3-none-any.whl (444 kB)\n",
      "Collecting async-timeout<5.0.0,>=4.0.0\n",
      "  Using cached async_timeout-4.0.3-py3-none-any.whl (5.7 kB)\n",
      "Collecting langchain-core<1.0.0,>=0.3.66\n",
      "  Using cached langchain_core-0.3.69-py3-none-any.whl (441 kB)\n",
      "Collecting SQLAlchemy<3,>=1.4\n",
      "  Using cached sqlalchemy-2.0.41-cp39-cp39-win_amd64.whl (2.1 MB)\n",
      "Collecting langsmith>=0.1.17\n",
      "  Using cached langsmith-0.4.6-py3-none-any.whl (367 kB)\n",
      "Requirement already satisfied: typing-extensions>=3.7.4.3 in c:\\users\\asus\\desktop\\vpbank_hackathon\\models_venv\\lib\\site-packages (from huggingface-hub<1.0,>=0.30.0->transformers) (4.14.1)\n",
      "Collecting fsspec>=2023.5.0\n",
      "  Using cached fsspec-2025.7.0-py3-none-any.whl (199 kB)\n",
      "Collecting tenacity!=8.4.0,<10.0.0,>=8.1.0\n",
      "  Using cached tenacity-9.1.2-py3-none-any.whl (28 kB)\n",
      "Collecting jsonpatch<2.0,>=1.33\n",
      "  Using cached jsonpatch-1.33-py2.py3-none-any.whl (12 kB)\n",
      "Collecting httpx<1,>=0.23.0\n",
      "  Using cached httpx-0.28.1-py3-none-any.whl (73 kB)\n",
      "Collecting requests-toolbelt<2.0.0,>=1.0.0\n",
      "  Using cached requests_toolbelt-1.0.0-py2.py3-none-any.whl (54 kB)\n",
      "Collecting zstandard<0.24.0,>=0.23.0\n",
      "  Using cached zstandard-0.23.0-cp39-cp39-win_amd64.whl (495 kB)\n",
      "Collecting orjson<4.0.0,>=3.9.14\n",
      "  Using cached orjson-3.11.0-cp39-cp39-win_amd64.whl (129 kB)\n",
      "Collecting typing-inspection>=0.4.0\n",
      "  Using cached typing_inspection-0.4.1-py3-none-any.whl (14 kB)\n",
      "Collecting pydantic-core==2.33.2\n",
      "  Using cached pydantic_core-2.33.2-cp39-cp39-win_amd64.whl (2.0 MB)\n",
      "Collecting annotated-types>=0.6.0\n",
      "  Using cached annotated_types-0.7.0-py3-none-any.whl (13 kB)\n",
      "Collecting idna<4,>=2.5\n",
      "  Using cached idna-3.10-py3-none-any.whl (70 kB)\n",
      "Collecting certifi>=2017.4.17\n",
      "  Using cached certifi-2025.7.14-py3-none-any.whl (162 kB)\n",
      "Collecting charset_normalizer<4,>=2\n",
      "  Using cached charset_normalizer-3.4.2-cp39-cp39-win_amd64.whl (105 kB)\n",
      "Collecting urllib3<3,>=1.21.1\n",
      "  Using cached urllib3-2.5.0-py3-none-any.whl (129 kB)\n",
      "Collecting greenlet>=1\n",
      "  Using cached greenlet-3.2.3-cp39-cp39-win_amd64.whl (296 kB)\n",
      "Requirement already satisfied: colorama in c:\\users\\asus\\desktop\\vpbank_hackathon\\models_venv\\lib\\site-packages (from tqdm>=4.27->transformers) (0.4.6)\n",
      "Collecting anyio\n",
      "  Using cached anyio-4.9.0-py3-none-any.whl (100 kB)\n",
      "Collecting httpcore==1.*\n",
      "  Using cached httpcore-1.0.9-py3-none-any.whl (78 kB)\n",
      "Collecting h11>=0.16\n",
      "  Using cached h11-0.16.0-py3-none-any.whl (37 kB)\n",
      "Collecting jsonpointer>=1.9\n",
      "  Using cached jsonpointer-3.0.0-py2.py3-none-any.whl (7.6 kB)\n",
      "Collecting sniffio>=1.1\n",
      "  Using cached sniffio-1.3.1-py3-none-any.whl (10 kB)\n",
      "Requirement already satisfied: exceptiongroup>=1.0.2 in c:\\users\\asus\\desktop\\vpbank_hackathon\\models_venv\\lib\\site-packages (from anyio->httpx<1,>=0.23.0->langsmith>=0.1.17->langchain) (1.3.0)\n",
      "Installing collected packages: sentencepiece, zstandard, urllib3, typing-inspection, tqdm, tenacity, sniffio, safetensors, regex, pyyaml, pydantic-core, orjson, jsonpointer, idna, h11, greenlet, fsspec, filelock, faiss-cpu, charset_normalizer, certifi, async-timeout, annotated-types, SQLAlchemy, requests, pydantic, jsonpatch, httpcore, anyio, requests-toolbelt, huggingface-hub, httpx, tokenizers, langsmith, transformers, langchain-core, langchain-text-splitters, langchain\n",
      "Successfully installed SQLAlchemy-2.0.41 annotated-types-0.7.0 anyio-4.9.0 async-timeout-4.0.3 certifi-2025.7.14 charset_normalizer-3.4.2 faiss-cpu-1.11.0.post1 filelock-3.18.0 fsspec-2025.7.0 greenlet-3.2.3 h11-0.16.0 httpcore-1.0.9 httpx-0.28.1 huggingface-hub-0.33.4 idna-3.10 jsonpatch-1.33 jsonpointer-3.0.0 langchain-0.3.26 langchain-core-0.3.69 langchain-text-splitters-0.3.8 langsmith-0.4.6 orjson-3.11.0 pydantic-2.11.7 pydantic-core-2.33.2 pyyaml-6.0.2 regex-2024.11.6 requests-2.32.4 requests-toolbelt-1.0.0 safetensors-0.5.3 sentencepiece-0.2.0 sniffio-1.3.1 tenacity-9.1.2 tokenizers-0.21.2 tqdm-4.67.1 transformers-4.53.2 typing-inspection-0.4.1 urllib3-2.5.0 zstandard-0.23.0\n"
     ]
    },
    {
     "name": "stderr",
     "output_type": "stream",
     "text": [
      "WARNING: You are using pip version 22.0.4; however, version 25.1.1 is available.\n",
      "You should consider upgrading via the 'C:\\Users\\ASUS\\Desktop\\vpbank_hackathon\\models_venv\\Scripts\\python.exe -m pip install --upgrade pip' command.\n"
     ]
    },
    {
     "name": "stdout",
     "output_type": "stream",
     "text": [
      "Collecting pypdf\n",
      "  Downloading pypdf-5.8.0-py3-none-any.whl (309 kB)\n",
      "     -------------------------------------- 309.7/309.7 KB 2.1 MB/s eta 0:00:00\n",
      "Collecting unstructured\n",
      "  Using cached unstructured-0.18.3-py3-none-any.whl (1.8 MB)\n",
      "Collecting bs4\n",
      "  Using cached bs4-0.0.2-py2.py3-none-any.whl (1.2 kB)\n",
      "Requirement already satisfied: typing_extensions>=4.0 in c:\\users\\asus\\desktop\\vpbank_hackathon\\models_venv\\lib\\site-packages (from pypdf) (4.14.1)\n",
      "Collecting unstructured-client\n",
      "  Using cached unstructured_client-0.38.1-py3-none-any.whl (212 kB)\n",
      "Requirement already satisfied: numpy in c:\\users\\asus\\desktop\\vpbank_hackathon\\models_venv\\lib\\site-packages (from unstructured) (2.0.2)\n",
      "Collecting backoff\n",
      "  Using cached backoff-2.2.1-py3-none-any.whl (15 kB)\n",
      "Collecting html5lib\n",
      "  Using cached html5lib-1.1-py2.py3-none-any.whl (112 kB)\n",
      "Collecting langdetect\n",
      "  Using cached langdetect-1.0.9.tar.gz (981 kB)\n",
      "  Preparing metadata (setup.py): started\n",
      "  Preparing metadata (setup.py): finished with status 'done'\n",
      "Requirement already satisfied: psutil in c:\\users\\asus\\desktop\\vpbank_hackathon\\models_venv\\lib\\site-packages (from unstructured) (7.0.0)\n",
      "Collecting python-magic\n",
      "  Using cached python_magic-0.4.27-py2.py3-none-any.whl (13 kB)\n",
      "Collecting nltk\n",
      "  Using cached nltk-3.9.1-py3-none-any.whl (1.5 MB)\n",
      "Requirement already satisfied: requests in c:\\users\\asus\\desktop\\vpbank_hackathon\\models_venv\\lib\\site-packages (from unstructured) (2.32.4)\n",
      "Collecting python-oxmsg\n",
      "  Using cached python_oxmsg-0.0.2-py3-none-any.whl (31 kB)\n",
      "Collecting filetype\n",
      "  Using cached filetype-1.2.0-py2.py3-none-any.whl (19 kB)\n",
      "Collecting lxml\n",
      "  Using cached lxml-6.0.0-cp39-cp39-win_amd64.whl (4.0 MB)\n",
      "Collecting wrapt\n",
      "  Using cached wrapt-1.17.2-cp39-cp39-win_amd64.whl (38 kB)\n",
      "Requirement already satisfied: tqdm in c:\\users\\asus\\desktop\\vpbank_hackathon\\models_venv\\lib\\site-packages (from unstructured) (4.67.1)\n",
      "Collecting dataclasses-json\n",
      "  Using cached dataclasses_json-0.6.7-py3-none-any.whl (28 kB)\n",
      "Collecting emoji\n",
      "  Using cached emoji-2.14.1-py3-none-any.whl (590 kB)\n",
      "Collecting python-iso639\n",
      "  Using cached python_iso639-2025.2.18-py3-none-any.whl (167 kB)\n",
      "Collecting rapidfuzz\n",
      "  Using cached rapidfuzz-3.13.0-cp39-cp39-win_amd64.whl (1.6 MB)\n",
      "Collecting beautifulsoup4\n",
      "  Using cached beautifulsoup4-4.13.4-py3-none-any.whl (187 kB)\n",
      "Collecting chardet\n",
      "  Using cached chardet-5.2.0-py3-none-any.whl (199 kB)\n",
      "Collecting soupsieve>1.2\n",
      "  Using cached soupsieve-2.7-py3-none-any.whl (36 kB)\n",
      "Collecting typing-inspect<1,>=0.4.0\n",
      "  Using cached typing_inspect-0.9.0-py3-none-any.whl (8.8 kB)\n",
      "Collecting marshmallow<4.0.0,>=3.18.0\n",
      "  Using cached marshmallow-3.26.1-py3-none-any.whl (50 kB)\n",
      "Collecting webencodings\n",
      "  Using cached webencodings-0.5.1-py2.py3-none-any.whl (11 kB)\n",
      "Requirement already satisfied: six>=1.9 in c:\\users\\asus\\desktop\\vpbank_hackathon\\models_venv\\lib\\site-packages (from html5lib->unstructured) (1.17.0)\n",
      "Collecting click\n",
      "  Using cached click-8.1.8-py3-none-any.whl (98 kB)\n",
      "Requirement already satisfied: regex>=2021.8.3 in c:\\users\\asus\\desktop\\vpbank_hackathon\\models_venv\\lib\\site-packages (from nltk->unstructured) (2024.11.6)\n",
      "Requirement already satisfied: joblib in c:\\users\\asus\\desktop\\vpbank_hackathon\\models_venv\\lib\\site-packages (from nltk->unstructured) (1.5.1)\n",
      "Collecting olefile\n",
      "  Using cached olefile-0.47-py2.py3-none-any.whl (114 kB)\n",
      "Requirement already satisfied: urllib3<3,>=1.21.1 in c:\\users\\asus\\desktop\\vpbank_hackathon\\models_venv\\lib\\site-packages (from requests->unstructured) (2.5.0)\n",
      "Requirement already satisfied: certifi>=2017.4.17 in c:\\users\\asus\\desktop\\vpbank_hackathon\\models_venv\\lib\\site-packages (from requests->unstructured) (2025.7.14)\n",
      "Requirement already satisfied: idna<4,>=2.5 in c:\\users\\asus\\desktop\\vpbank_hackathon\\models_venv\\lib\\site-packages (from requests->unstructured) (3.10)\n",
      "Requirement already satisfied: charset_normalizer<4,>=2 in c:\\users\\asus\\desktop\\vpbank_hackathon\\models_venv\\lib\\site-packages (from requests->unstructured) (3.4.2)\n",
      "Requirement already satisfied: colorama in c:\\users\\asus\\desktop\\vpbank_hackathon\\models_venv\\lib\\site-packages (from tqdm->unstructured) (0.4.6)\n",
      "Collecting cryptography>=3.1\n",
      "  Using cached cryptography-45.0.5-cp37-abi3-win_amd64.whl (3.4 MB)\n",
      "Requirement already satisfied: nest-asyncio>=1.6.0 in c:\\users\\asus\\desktop\\vpbank_hackathon\\models_venv\\lib\\site-packages (from unstructured-client->unstructured) (1.6.0)\n",
      "Requirement already satisfied: pydantic>=2.11.2 in c:\\users\\asus\\desktop\\vpbank_hackathon\\models_venv\\lib\\site-packages (from unstructured-client->unstructured) (2.11.7)\n",
      "Requirement already satisfied: httpx>=0.27.0 in c:\\users\\asus\\desktop\\vpbank_hackathon\\models_venv\\lib\\site-packages (from unstructured-client->unstructured) (0.28.1)\n",
      "Requirement already satisfied: requests-toolbelt>=1.0.0 in c:\\users\\asus\\desktop\\vpbank_hackathon\\models_venv\\lib\\site-packages (from unstructured-client->unstructured) (1.0.0)\n",
      "Collecting aiofiles>=24.1.0\n",
      "  Using cached aiofiles-24.1.0-py3-none-any.whl (15 kB)\n",
      "Collecting cffi>=1.14\n",
      "  Using cached cffi-1.17.1-cp39-cp39-win_amd64.whl (181 kB)\n",
      "Requirement already satisfied: httpcore==1.* in c:\\users\\asus\\desktop\\vpbank_hackathon\\models_venv\\lib\\site-packages (from httpx>=0.27.0->unstructured-client->unstructured) (1.0.9)\n",
      "Requirement already satisfied: anyio in c:\\users\\asus\\desktop\\vpbank_hackathon\\models_venv\\lib\\site-packages (from httpx>=0.27.0->unstructured-client->unstructured) (4.9.0)\n",
      "Requirement already satisfied: h11>=0.16 in c:\\users\\asus\\desktop\\vpbank_hackathon\\models_venv\\lib\\site-packages (from httpcore==1.*->httpx>=0.27.0->unstructured-client->unstructured) (0.16.0)\n",
      "Requirement already satisfied: packaging>=17.0 in c:\\users\\asus\\desktop\\vpbank_hackathon\\models_venv\\lib\\site-packages (from marshmallow<4.0.0,>=3.18.0->dataclasses-json->unstructured) (25.0)\n",
      "Requirement already satisfied: typing-inspection>=0.4.0 in c:\\users\\asus\\desktop\\vpbank_hackathon\\models_venv\\lib\\site-packages (from pydantic>=2.11.2->unstructured-client->unstructured) (0.4.1)\n",
      "Requirement already satisfied: annotated-types>=0.6.0 in c:\\users\\asus\\desktop\\vpbank_hackathon\\models_venv\\lib\\site-packages (from pydantic>=2.11.2->unstructured-client->unstructured) (0.7.0)\n",
      "Requirement already satisfied: pydantic-core==2.33.2 in c:\\users\\asus\\desktop\\vpbank_hackathon\\models_venv\\lib\\site-packages (from pydantic>=2.11.2->unstructured-client->unstructured) (2.33.2)\n",
      "Collecting mypy-extensions>=0.3.0\n",
      "  Using cached mypy_extensions-1.1.0-py3-none-any.whl (5.0 kB)\n",
      "Collecting pycparser\n",
      "  Using cached pycparser-2.22-py3-none-any.whl (117 kB)\n",
      "Requirement already satisfied: exceptiongroup>=1.0.2 in c:\\users\\asus\\desktop\\vpbank_hackathon\\models_venv\\lib\\site-packages (from anyio->httpx>=0.27.0->unstructured-client->unstructured) (1.3.0)\n",
      "Requirement already satisfied: sniffio>=1.1 in c:\\users\\asus\\desktop\\vpbank_hackathon\\models_venv\\lib\\site-packages (from anyio->httpx>=0.27.0->unstructured-client->unstructured) (1.3.1)\n",
      "Using legacy 'setup.py install' for langdetect, since package 'wheel' is not installed.\n",
      "Installing collected packages: webencodings, filetype, wrapt, soupsieve, rapidfuzz, python-magic, python-iso639, pypdf, pycparser, olefile, mypy-extensions, marshmallow, lxml, langdetect, html5lib, emoji, click, chardet, backoff, aiofiles, typing-inspect, python-oxmsg, nltk, cffi, beautifulsoup4, dataclasses-json, cryptography, bs4, unstructured-client, unstructured\n",
      "  Running setup.py install for langdetect: started\n",
      "  Running setup.py install for langdetect: finished with status 'done'\n",
      "Successfully installed aiofiles-24.1.0 backoff-2.2.1 beautifulsoup4-4.13.4 bs4-0.0.2 cffi-1.17.1 chardet-5.2.0 click-8.1.8 cryptography-45.0.5 dataclasses-json-0.6.7 emoji-2.14.1 filetype-1.2.0 html5lib-1.1 langdetect-1.0.9 lxml-6.0.0 marshmallow-3.26.1 mypy-extensions-1.1.0 nltk-3.9.1 olefile-0.47 pycparser-2.22 pypdf-5.8.0 python-iso639-2025.2.18 python-magic-0.4.27 python-oxmsg-0.0.2 rapidfuzz-3.13.0 soupsieve-2.7 typing-inspect-0.9.0 unstructured-0.18.3 unstructured-client-0.38.1 webencodings-0.5.1 wrapt-1.17.2\n"
     ]
    },
    {
     "name": "stderr",
     "output_type": "stream",
     "text": [
      "WARNING: You are using pip version 22.0.4; however, version 25.1.1 is available.\n",
      "You should consider upgrading via the 'C:\\Users\\ASUS\\Desktop\\vpbank_hackathon\\models_venv\\Scripts\\python.exe -m pip install --upgrade pip' command.\n"
     ]
    }
   ],
   "source": [
    "!pip install transformers sentencepiece langchain faiss-cpu\n",
    "\n",
    "!pip install pypdf unstructured bs4"
   ]
  },
  {
   "cell_type": "markdown",
   "id": "0343200a",
   "metadata": {},
   "source": [
    "# vinai/phobert-base\n"
   ]
  },
  {
   "cell_type": "code",
   "execution_count": 2,
   "id": "4d13f8b8",
   "metadata": {},
   "outputs": [
    {
     "name": "stderr",
     "output_type": "stream",
     "text": [
      "c:\\Users\\ASUS\\Desktop\\vpbank_hackathon\\models_venv\\lib\\site-packages\\tqdm\\auto.py:21: TqdmWarning: IProgress not found. Please update jupyter and ipywidgets. See https://ipywidgets.readthedocs.io/en/stable/user_install.html\n",
      "  from .autonotebook import tqdm as notebook_tqdm\n"
     ]
    }
   ],
   "source": [
    "import os\n",
    "os.environ[\"KMP_DUPLICATE_LIB_OK\"] = \"TRUE\"\n",
    "\n",
    "from langchain.embeddings.base import Embeddings\n",
    "from transformers import AutoTokenizer, AutoModel\n",
    "import torch\n",
    "\n",
    "class PhoBERTEmbeddings(Embeddings):\n",
    "    def __init__(self, model_name=\"vinai/phobert-base\"):\n",
    "        self.tokenizer = AutoTokenizer.from_pretrained(model_name)\n",
    "        self.model = AutoModel.from_pretrained(model_name)\n",
    "        self.model.eval()\n",
    "        self.model.to(\"cpu\")\n",
    "\n",
    "    def embed_documents(self, texts):\n",
    "        return [self._get_cls_embedding(text) for text in texts]\n",
    "\n",
    "    def embed_query(self, text):\n",
    "        return self._get_cls_embedding(text)\n",
    "\n",
    "    def _get_cls_embedding(self, text):\n",
    "        inputs = self.tokenizer(text, return_tensors=\"pt\", truncation=True, padding=True, max_length=512)\n",
    "        with torch.no_grad():\n",
    "            outputs = self.model(**inputs)\n",
    "        cls_embedding = outputs.last_hidden_state[0][0]\n",
    "        return cls_embedding.cpu().tolist()\n"
   ]
  },
  {
   "cell_type": "code",
   "execution_count": 3,
   "id": "44ca23e0",
   "metadata": {},
   "outputs": [],
   "source": [
    "phobert_embedder = PhoBERTEmbeddings()"
   ]
  },
  {
   "cell_type": "markdown",
   "id": "7675f157",
   "metadata": {},
   "source": [
    "# Tải docs / tạo vector , lưu vector\n",
    "\n"
   ]
  },
  {
   "cell_type": "code",
   "execution_count": null,
   "id": "4874065c",
   "metadata": {},
   "outputs": [],
   "source": [
    "import os\n",
    "from langchain.document_loaders import PyPDFLoader\n",
    "\n",
    "def load_all_pdfs(folder_path):\n",
    "    all_docs = []\n",
    "    for filename in os.listdir(folder_path):\n",
    "        if filename.endswith(\".pdf\"):\n",
    "            loader = PyPDFLoader(os.path.join(folder_path, filename))\n",
    "            docs = loader.load()\n",
    "            all_docs.extend(docs)\n",
    "    return all_docs\n",
    "\n",
    "documents = load_all_pdfs(\"Vpbank_docs/pdf_docs\")\n"
   ]
  },
  {
   "cell_type": "code",
   "execution_count": 6,
   "id": "eb98f6c1",
   "metadata": {},
   "outputs": [],
   "source": [
    "from langchain.text_splitter import RecursiveCharacterTextSplitter\n",
    "\n",
    "splitter = RecursiveCharacterTextSplitter(chunk_size=300, chunk_overlap=50)\n",
    "docs = splitter.split_documents(documents)\n"
   ]
  },
  {
   "cell_type": "code",
   "execution_count": null,
   "id": "e304bc71",
   "metadata": {},
   "outputs": [],
   "source": [
    "from langchain.vectorstores import FAISS\n",
    "\n",
    "phobert_embedder = PhoBERTEmbeddings()\n",
    "vectorstore = FAISS.from_documents(docs, phobert_embedder)"
   ]
  },
  {
   "cell_type": "code",
   "execution_count": null,
   "id": "b8e62dac",
   "metadata": {},
   "outputs": [],
   "source": [
    "vectorstore.save_local(\"phobert_faiss_index\")"
   ]
  },
  {
   "cell_type": "markdown",
   "id": "288d08e0",
   "metadata": {},
   "source": [
    "# truy vấn"
   ]
  },
  {
   "cell_type": "code",
   "execution_count": 10,
   "id": "074d064b",
   "metadata": {},
   "outputs": [],
   "source": [
    "from langchain.vectorstores import FAISS\n",
    "\n",
    "# Khởi tạo lại PhoBERTEmbeddings (nếu chưa)\n",
    "phobert_embedder = PhoBERTEmbeddings()\n",
    "\n",
    "# Load lại FAISS index đã lưu\n",
    "vectorstore = FAISS.load_local(\n",
    "    folder_path=\"phobert_faiss_index\",\n",
    "    embeddings=phobert_embedder,\n",
    "    allow_dangerous_deserialization=True  # Bắt buộc khi không dùng OpenAI\n",
    ")\n"
   ]
  },
  {
   "cell_type": "code",
   "execution_count": null,
   "id": "1804e58d",
   "metadata": {},
   "outputs": [],
   "source": [
    "# Cách ổn định và dễ đọc nhất\n",
    "def print_docs(docs):\n",
    "    for i, doc in enumerate(docs):\n",
    "        print(f\"\\n🔹 Kết quả {i+1}\")\n",
    "        filename = doc.metadata['source'].split(\"Vpbank_docs\\\\\")[-1]  # hoặc dùng os.path.basename\n",
    "        page = doc.metadata.get(\"page_label\", doc.metadata.get(\"page\", \"?\"))\n",
    "        print(f\"📄 Tệp: {filename}\")\n",
    "        print(f\"🔖 Trang: {page}\")\n",
    "        print(f\"📝 Nội dung:\\n{doc.page_content.strip()}\")\n"
   ]
  },
  {
   "cell_type": "code",
   "execution_count": 12,
   "id": "d9755208",
   "metadata": {},
   "outputs": [
    {
     "name": "stdout",
     "output_type": "stream",
     "text": [
      "\n",
      "🔹 Kết quả 1\n",
      "📄 Tệp: 4pl02bieuphikhuutienvertiengvietcapnhat21112024docxhi4mq.pdf\n",
      "🔖 Trang: 21\n",
      "📝 Nội dung:\n",
      " Ủy quyền Thẻ tiết kiệm \n",
      " Phong tỏa tiền gửi tiết kiệm theo yêu cầu của KH \n",
      " Xác nhận số dư/thông tin tiền gửi tiết kiệm \n",
      " Lập giấy ủy quyền tại VPBank để thực hiện giao dịch đối với tiền gửi tiết kiệm/giấy tờ có giá  \n",
      " Xử lý rút tiền theo hồ sơ thừa kế\n",
      "\n",
      "🔹 Kết quả 2\n",
      "📄 Tệp: bieu-phi-dich-vu-khach-hang-ca-nhan-hieu-luc-tu-01-09-2024.pdf\n",
      "🔖 Trang: 16\n",
      "📝 Nội dung:\n",
      "- Biểu phí này chưa bao gồm VAT. \n",
      "- Số dư bình quân (SDBQ) TKTT tại Biểu phí này được xác định theo công thức sau và có thể được VPBank \n",
      "thay đổi từng thời kỳ theo quy định của VPBank: Số dư bình quân bằng (=) Tổng số dư cuối ngày của\n",
      "\n",
      "🔹 Kết quả 3\n",
      "📄 Tệp: 4pl02bieuphikhuutienvertiengvietcapnhat21112024docxhi4mq.pdf\n",
      "🔖 Trang: 6\n",
      "📝 Nội dung:\n",
      "Xác nhận tài khoản theo yêu cầu \n",
      "của chủ thẻ 50,000VND 50,000VND 50,000VND 50,000VND Không thu phí Không thu phí\n",
      "\n",
      "🔹 Kết quả 4\n",
      "📄 Tệp: bieu-phi-dich-vu-khach-hang-ca-nhan-hieu-luc-tu-01-09-2024.pdf\n",
      "🔖 Trang: 3\n",
      "📝 Nội dung:\n",
      "+ Nếu Khách hàng rút tiền mặt từ Tài khoản thanh toán, tuân thủ Phí rút tiền mặt theo quy định tại mục \n",
      "II.1 Nộp/ Rút từ tài khoản TGTT\n"
     ]
    }
   ],
   "source": [
    "import numpy as np\n",
    "\n",
    "query_vec = phobert_embedder.embed_query(\"Tôi muốn biết thủ tục mở thẻ tín dụng\")\n",
    "query_vec = np.array(query_vec, dtype=np.float32)  # ép kiểu bắt buộc\n",
    "\n",
    "results = vectorstore.similarity_search_by_vector(query_vec)\n",
    "print_docs(results)"
   ]
  }
 ],
 "metadata": {
  "kernelspec": {
   "display_name": "models_venv",
   "language": "python",
   "name": "python3"
  },
  "language_info": {
   "codemirror_mode": {
    "name": "ipython",
    "version": 3
   },
   "file_extension": ".py",
   "mimetype": "text/x-python",
   "name": "python",
   "nbconvert_exporter": "python",
   "pygments_lexer": "ipython3",
   "version": "3.9.13"
  }
 },
 "nbformat": 4,
 "nbformat_minor": 5
}
