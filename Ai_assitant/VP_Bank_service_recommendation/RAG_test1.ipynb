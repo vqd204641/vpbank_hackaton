{
 "cells": [
  {
   "cell_type": "code",
   "execution_count": null,
   "id": "e29ce8b5",
   "metadata": {},
   "outputs": [],
   "source": [
    "!pip install transformers sentencepiece langchain faiss-cpu\n",
    "\n",
    "!pip install pypdf unstructured bs4"
   ]
  },
  {
   "cell_type": "markdown",
   "id": "0343200a",
   "metadata": {},
   "source": [
    "# vinai/phobert-base\n"
   ]
  },
  {
   "cell_type": "code",
   "execution_count": 1,
   "id": "4d13f8b8",
   "metadata": {},
   "outputs": [
    {
     "name": "stderr",
     "output_type": "stream",
     "text": [
      "c:\\Users\\ASUS\\Desktop\\vpbank_hackathon\\models_venv\\lib\\site-packages\\tqdm\\auto.py:21: TqdmWarning: IProgress not found. Please update jupyter and ipywidgets. See https://ipywidgets.readthedocs.io/en/stable/user_install.html\n",
      "  from .autonotebook import tqdm as notebook_tqdm\n"
     ]
    }
   ],
   "source": [
    "import os\n",
    "os.environ[\"KMP_DUPLICATE_LIB_OK\"] = \"TRUE\"\n",
    "\n",
    "from langchain.embeddings.base import Embeddings\n",
    "from transformers import AutoTokenizer, AutoModel\n",
    "import torch\n",
    "\n",
    "class PhoBERTEmbeddings(Embeddings):\n",
    "    def __init__(self, model_name=\"vinai/phobert-base\"):\n",
    "        self.tokenizer = AutoTokenizer.from_pretrained(model_name)\n",
    "        self.model = AutoModel.from_pretrained(model_name)\n",
    "        self.model.eval()\n",
    "        self.model.to(\"cpu\")\n",
    "\n",
    "    def embed_documents(self, texts):\n",
    "        return [self._get_cls_embedding(text) for text in texts]\n",
    "\n",
    "    def embed_query(self, text):\n",
    "        return self._get_cls_embedding(text)\n",
    "\n",
    "    def _get_cls_embedding(self, text):\n",
    "        inputs = self.tokenizer(text, return_tensors=\"pt\", truncation=True, padding=True, max_length=512)\n",
    "        with torch.no_grad():\n",
    "            outputs = self.model(**inputs)\n",
    "        cls_embedding = outputs.last_hidden_state[0][0]\n",
    "        return cls_embedding.cpu().tolist()\n"
   ]
  },
  {
   "cell_type": "code",
   "execution_count": 2,
   "id": "44ca23e0",
   "metadata": {},
   "outputs": [],
   "source": [
    "phobert_embedder = PhoBERTEmbeddings()"
   ]
  },
  {
   "cell_type": "markdown",
   "id": "7675f157",
   "metadata": {},
   "source": [
    "# Tải docs / tạo vector , lưu vector\n",
    "\n"
   ]
  },
  {
   "cell_type": "code",
   "execution_count": 14,
   "id": "4874065c",
   "metadata": {},
   "outputs": [
    {
     "name": "stderr",
     "output_type": "stream",
     "text": [
      "Multiple definitions in dictionary at byte 0x7cc814 for key /Info\n",
      "Multiple definitions in dictionary at byte 0x7cc821 for key /Info\n",
      "Multiple definitions in dictionary at byte 0x7cc82e for key /Info\n",
      "Multiple definitions in dictionary at byte 0xb2723 for key /Info\n",
      "Multiple definitions in dictionary at byte 0xb2730 for key /Info\n",
      "Multiple definitions in dictionary at byte 0xb273d for key /Info\n",
      "Multiple definitions in dictionary at byte 0xb90bc for key /Info\n",
      "Multiple definitions in dictionary at byte 0xb90c9 for key /Info\n",
      "Multiple definitions in dictionary at byte 0xb90d6 for key /Info\n",
      "Multiple definitions in dictionary at byte 0xa0857f for key /Info\n",
      "Multiple definitions in dictionary at byte 0xa0858c for key /Info\n",
      "Multiple definitions in dictionary at byte 0xa08599 for key /Info\n",
      "Multiple definitions in dictionary at byte 0xd0d94 for key /Info\n",
      "Multiple definitions in dictionary at byte 0xd0da1 for key /Info\n",
      "Multiple definitions in dictionary at byte 0xd0dae for key /Info\n",
      "Multiple definitions in dictionary at byte 0xab0f5 for key /Info\n",
      "Multiple definitions in dictionary at byte 0xab102 for key /Info\n",
      "Multiple definitions in dictionary at byte 0xab10f for key /Info\n",
      "Multiple definitions in dictionary at byte 0xa845d for key /Info\n",
      "Multiple definitions in dictionary at byte 0xa846a for key /Info\n",
      "Multiple definitions in dictionary at byte 0xa8477 for key /Info\n"
     ]
    }
   ],
   "source": [
    "import os\n",
    "from langchain.document_loaders import PyPDFLoader\n",
    "\n",
    "def load_all_pdfs(folder_path):\n",
    "    all_docs = []\n",
    "    for filename in os.listdir(folder_path):\n",
    "        if filename.endswith(\".pdf\"):\n",
    "            loader = PyPDFLoader(os.path.join(folder_path, filename))\n",
    "            docs = loader.load()\n",
    "            all_docs.extend(docs)\n",
    "    return all_docs\n",
    "\n",
    "documents = load_all_pdfs(\"Vpbank_docs/pdf_docs\")\n"
   ]
  },
  {
   "cell_type": "code",
   "execution_count": 15,
   "id": "eb98f6c1",
   "metadata": {},
   "outputs": [],
   "source": [
    "from langchain.text_splitter import RecursiveCharacterTextSplitter\n",
    "\n",
    "splitter = RecursiveCharacterTextSplitter(chunk_size=300, chunk_overlap=50)\n",
    "docs = splitter.split_documents(documents)\n"
   ]
  },
  {
   "cell_type": "code",
   "execution_count": 17,
   "id": "fe113b8f",
   "metadata": {},
   "outputs": [
    {
     "data": {
      "text/plain": [
       "2393"
      ]
     },
     "execution_count": 17,
     "metadata": {},
     "output_type": "execute_result"
    }
   ],
   "source": [
    "len(documents)"
   ]
  },
  {
   "cell_type": "code",
   "execution_count": 16,
   "id": "64b67078",
   "metadata": {},
   "outputs": [
    {
     "data": {
      "text/plain": [
       "18529"
      ]
     },
     "execution_count": 16,
     "metadata": {},
     "output_type": "execute_result"
    }
   ],
   "source": [
    "len(docs)"
   ]
  },
  {
   "cell_type": "code",
   "execution_count": 18,
   "id": "e304bc71",
   "metadata": {},
   "outputs": [],
   "source": [
    "from langchain.vectorstores import FAISS\n",
    "\n",
    "phobert_embedder = PhoBERTEmbeddings()\n",
    "vectorstore = FAISS.from_documents(docs, phobert_embedder)"
   ]
  },
  {
   "cell_type": "code",
   "execution_count": 24,
   "id": "b8e62dac",
   "metadata": {},
   "outputs": [],
   "source": [
    "vectorstore.save_local(\"phobert_faiss_index\")"
   ]
  },
  {
   "cell_type": "markdown",
   "id": "288d08e0",
   "metadata": {},
   "source": [
    "# truy vấn"
   ]
  },
  {
   "cell_type": "code",
   "execution_count": 3,
   "id": "074d064b",
   "metadata": {},
   "outputs": [],
   "source": [
    "from langchain.vectorstores import FAISS\n",
    "\n",
    "# Khởi tạo lại PhoBERTEmbeddings (nếu chưa)\n",
    "phobert_embedder = PhoBERTEmbeddings()\n",
    "\n",
    "# Load lại FAISS index đã lưu\n",
    "vectorstore = FAISS.load_local(\n",
    "    folder_path=\"phobert_faiss_index\",\n",
    "    embeddings=phobert_embedder,\n",
    "    allow_dangerous_deserialization=True  # Bắt buộc khi không dùng OpenAI\n",
    ")\n"
   ]
  },
  {
   "cell_type": "code",
   "execution_count": 4,
   "id": "1804e58d",
   "metadata": {},
   "outputs": [],
   "source": [
    "# Cách ổn định và dễ đọc nhất\n",
    "def print_docs(docs):\n",
    "    for i, doc in enumerate(docs):\n",
    "        print(f\"\\n🔹 Kết quả {i+1}\")\n",
    "        filename = doc.metadata['source'].split(\"Vpbank_docs\\\\\")[-1]  # hoặc dùng os.path.basename\n",
    "        page = doc.metadata.get(\"page_label\", doc.metadata.get(\"page\", \"?\"))\n",
    "        print(f\"📄 Tệp: {filename}\")\n",
    "        print(f\"🔖 Trang: {page}\")\n",
    "        print(f\"📝 Nội dung:\\n{doc.page_content.strip()}\")\n"
   ]
  },
  {
   "cell_type": "code",
   "execution_count": 5,
   "id": "d9755208",
   "metadata": {},
   "outputs": [
    {
     "name": "stdout",
     "output_type": "stream",
     "text": [
      "\n",
      "🔹 Kết quả 1\n",
      "📄 Tệp: Vpbank_docs/pdf_docs\\20250708-bieu-lai-suat-niem-yet.pdf\n",
      "🔖 Trang: 4\n",
      "📝 Nội dung:\n",
      "- \n",
      "- \n",
      " \n",
      " \n",
      " \n",
      "  \n",
      "    \n",
      " \n",
      "\n",
      "\n",
      "🔹 Kết quả 2\n",
      "📄 Tệp: Vpbank_docs/pdf_docs\\dieu-kien-giao-dich-chung-ve-cap-tin-dung-danh-cho-khach-hang-ca-nhan-tai-vpbank-15112022-hhl.pdf\n",
      "🔖 Trang: 14\n",
      "📝 Nội dung:\n",
      "14\n",
      "\n",
      "🔹 Kết quả 3\n",
      "📄 Tệp: Vpbank_docs/pdf_docs\\mb23-qd-gdcn-200.pdf\n",
      "🔖 Trang: 1\n",
      "📝 Nội dung:\n",
      "giá tiền mà KH thực nộp\n",
      "\n",
      "🔹 Kết quả 4\n",
      "📄 Tệp: Vpbank_docs/pdf_docs\\mb24-qd-gdcn-200.pdf\n",
      "🔖 Trang: 1\n",
      "📝 Nội dung:\n",
      "giá tiền mà KH thực nộp\n"
     ]
    }
   ],
   "source": [
    "import numpy as np\n",
    "\n",
    "query_vec = phobert_embedder.embed_query(\"Tôi muốn vay tiền mua nhà\")\n",
    "query_vec = np.array(query_vec, dtype=np.float32)  # ép kiểu bắt buộc\n",
    "\n",
    "results = vectorstore.similarity_search_by_vector(query_vec)\n",
    "print_docs(results)"
   ]
  }
 ],
 "metadata": {
  "kernelspec": {
   "display_name": "models_venv",
   "language": "python",
   "name": "python3"
  },
  "language_info": {
   "codemirror_mode": {
    "name": "ipython",
    "version": 3
   },
   "file_extension": ".py",
   "mimetype": "text/x-python",
   "name": "python",
   "nbconvert_exporter": "python",
   "pygments_lexer": "ipython3",
   "version": "3.9.13"
  }
 },
 "nbformat": 4,
 "nbformat_minor": 5
}
